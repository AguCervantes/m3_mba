{
 "cells": [
  {
   "cell_type": "markdown",
   "id": "a05fceca-cf2a-4bb2-be92-c60b6bf2ab04",
   "metadata": {},
   "source": [
    "## Práctica ETL + EDA + Modeling"
   ]
  },
  {
   "cell_type": "markdown",
   "id": "f12f6b7a-1756-47d9-928d-264174a3334b",
   "metadata": {},
   "source": [
    "### Installing libraries"
   ]
  },
  {
   "cell_type": "code",
   "execution_count": null,
   "id": "d4f0b64c-ee79-4ece-bcca-2662fb39cf17",
   "metadata": {},
   "outputs": [],
   "source": [
    "pip install pandas"
   ]
  },
  {
   "cell_type": "markdown",
   "id": "8bc04c33-f646-4d3b-a844-4c9b1bee1d56",
   "metadata": {},
   "source": [
    "### Load data"
   ]
  },
  {
   "cell_type": "code",
   "execution_count": 1,
   "id": "ab45675f-16ba-41f7-897c-50da78d31150",
   "metadata": {},
   "outputs": [],
   "source": [
    "import pandas as pd"
   ]
  },
  {
   "cell_type": "code",
   "execution_count": 6,
   "id": "16323bb5-46d4-4c80-b8df-0134069378bf",
   "metadata": {},
   "outputs": [],
   "source": [
    "pwc = pd.read_csv('credit_card_bal.csv')"
   ]
  },
  {
   "cell_type": "code",
   "execution_count": 8,
   "id": "687a8ade-fd60-4639-a6e7-4ccb6ab320c2",
   "metadata": {},
   "outputs": [
    {
     "data": {
      "text/html": [
       "<div>\n",
       "<style scoped>\n",
       "    .dataframe tbody tr th:only-of-type {\n",
       "        vertical-align: middle;\n",
       "    }\n",
       "\n",
       "    .dataframe tbody tr th {\n",
       "        vertical-align: top;\n",
       "    }\n",
       "\n",
       "    .dataframe thead th {\n",
       "        text-align: right;\n",
       "    }\n",
       "</style>\n",
       "<table border=\"1\" class=\"dataframe\">\n",
       "  <thead>\n",
       "    <tr style=\"text-align: right;\">\n",
       "      <th></th>\n",
       "      <th>step</th>\n",
       "      <th>amount</th>\n",
       "      <th>oldbalanceOrg</th>\n",
       "      <th>newbalanceOrig</th>\n",
       "      <th>oldbalanceDest</th>\n",
       "      <th>newbalanceDest</th>\n",
       "      <th>isFraud</th>\n",
       "      <th>isFlaggedFraud</th>\n",
       "    </tr>\n",
       "  </thead>\n",
       "  <tbody>\n",
       "    <tr>\n",
       "      <th>count</th>\n",
       "      <td>16426.000000</td>\n",
       "      <td>1.642600e+04</td>\n",
       "      <td>1.642600e+04</td>\n",
       "      <td>1.642600e+04</td>\n",
       "      <td>1.642600e+04</td>\n",
       "      <td>1.642600e+04</td>\n",
       "      <td>16426.000000</td>\n",
       "      <td>16426.000000</td>\n",
       "    </tr>\n",
       "    <tr>\n",
       "      <th>mean</th>\n",
       "      <td>306.185194</td>\n",
       "      <td>8.236570e+05</td>\n",
       "      <td>1.252718e+06</td>\n",
       "      <td>5.348437e+05</td>\n",
       "      <td>8.341153e+05</td>\n",
       "      <td>1.264052e+06</td>\n",
       "      <td>0.500000</td>\n",
       "      <td>0.000974</td>\n",
       "    </tr>\n",
       "    <tr>\n",
       "      <th>std</th>\n",
       "      <td>192.704918</td>\n",
       "      <td>1.852158e+06</td>\n",
       "      <td>3.277629e+06</td>\n",
       "      <td>2.539971e+06</td>\n",
       "      <td>3.226697e+06</td>\n",
       "      <td>3.592841e+06</td>\n",
       "      <td>0.500015</td>\n",
       "      <td>0.031196</td>\n",
       "    </tr>\n",
       "    <tr>\n",
       "      <th>min</th>\n",
       "      <td>1.000000</td>\n",
       "      <td>0.000000e+00</td>\n",
       "      <td>0.000000e+00</td>\n",
       "      <td>0.000000e+00</td>\n",
       "      <td>0.000000e+00</td>\n",
       "      <td>0.000000e+00</td>\n",
       "      <td>0.000000</td>\n",
       "      <td>0.000000</td>\n",
       "    </tr>\n",
       "    <tr>\n",
       "      <th>25%</th>\n",
       "      <td>162.000000</td>\n",
       "      <td>3.662393e+04</td>\n",
       "      <td>1.067450e+04</td>\n",
       "      <td>0.000000e+00</td>\n",
       "      <td>0.000000e+00</td>\n",
       "      <td>0.000000e+00</td>\n",
       "      <td>0.000000</td>\n",
       "      <td>0.000000</td>\n",
       "    </tr>\n",
       "    <tr>\n",
       "      <th>50%</th>\n",
       "      <td>283.000000</td>\n",
       "      <td>1.706524e+05</td>\n",
       "      <td>1.202234e+05</td>\n",
       "      <td>0.000000e+00</td>\n",
       "      <td>0.000000e+00</td>\n",
       "      <td>1.244370e+05</td>\n",
       "      <td>0.500000</td>\n",
       "      <td>0.000000</td>\n",
       "    </tr>\n",
       "    <tr>\n",
       "      <th>75%</th>\n",
       "      <td>408.000000</td>\n",
       "      <td>5.482430e+05</td>\n",
       "      <td>7.965316e+05</td>\n",
       "      <td>0.000000e+00</td>\n",
       "      <td>5.214951e+05</td>\n",
       "      <td>1.115317e+06</td>\n",
       "      <td>1.000000</td>\n",
       "      <td>0.000000</td>\n",
       "    </tr>\n",
       "    <tr>\n",
       "      <th>max</th>\n",
       "      <td>743.000000</td>\n",
       "      <td>1.511569e+07</td>\n",
       "      <td>5.958504e+07</td>\n",
       "      <td>4.958504e+07</td>\n",
       "      <td>2.362305e+08</td>\n",
       "      <td>2.367265e+08</td>\n",
       "      <td>1.000000</td>\n",
       "      <td>1.000000</td>\n",
       "    </tr>\n",
       "  </tbody>\n",
       "</table>\n",
       "</div>"
      ],
      "text/plain": [
       "               step        amount  oldbalanceOrg  newbalanceOrig  \\\n",
       "count  16426.000000  1.642600e+04   1.642600e+04    1.642600e+04   \n",
       "mean     306.185194  8.236570e+05   1.252718e+06    5.348437e+05   \n",
       "std      192.704918  1.852158e+06   3.277629e+06    2.539971e+06   \n",
       "min        1.000000  0.000000e+00   0.000000e+00    0.000000e+00   \n",
       "25%      162.000000  3.662393e+04   1.067450e+04    0.000000e+00   \n",
       "50%      283.000000  1.706524e+05   1.202234e+05    0.000000e+00   \n",
       "75%      408.000000  5.482430e+05   7.965316e+05    0.000000e+00   \n",
       "max      743.000000  1.511569e+07   5.958504e+07    4.958504e+07   \n",
       "\n",
       "       oldbalanceDest  newbalanceDest       isFraud  isFlaggedFraud  \n",
       "count    1.642600e+04    1.642600e+04  16426.000000    16426.000000  \n",
       "mean     8.341153e+05    1.264052e+06      0.500000        0.000974  \n",
       "std      3.226697e+06    3.592841e+06      0.500015        0.031196  \n",
       "min      0.000000e+00    0.000000e+00      0.000000        0.000000  \n",
       "25%      0.000000e+00    0.000000e+00      0.000000        0.000000  \n",
       "50%      0.000000e+00    1.244370e+05      0.500000        0.000000  \n",
       "75%      5.214951e+05    1.115317e+06      1.000000        0.000000  \n",
       "max      2.362305e+08    2.367265e+08      1.000000        1.000000  "
      ]
     },
     "execution_count": 8,
     "metadata": {},
     "output_type": "execute_result"
    }
   ],
   "source": [
    "pwc.describe()"
   ]
  },
  {
   "cell_type": "code",
   "execution_count": 9,
   "id": "08b41e1f-97d2-4104-a969-4fee1428647b",
   "metadata": {},
   "outputs": [
    {
     "name": "stdout",
     "output_type": "stream",
     "text": [
      "<class 'pandas.core.frame.DataFrame'>\n",
      "RangeIndex: 16426 entries, 0 to 16425\n",
      "Data columns (total 11 columns):\n",
      " #   Column          Non-Null Count  Dtype  \n",
      "---  ------          --------------  -----  \n",
      " 0   step            16426 non-null  int64  \n",
      " 1   type            16426 non-null  object \n",
      " 2   amount          16426 non-null  float64\n",
      " 3   nameOrig        16426 non-null  object \n",
      " 4   oldbalanceOrg   16426 non-null  float64\n",
      " 5   newbalanceOrig  16426 non-null  float64\n",
      " 6   nameDest        16426 non-null  object \n",
      " 7   oldbalanceDest  16426 non-null  float64\n",
      " 8   newbalanceDest  16426 non-null  float64\n",
      " 9   isFraud         16426 non-null  int64  \n",
      " 10  isFlaggedFraud  16426 non-null  int64  \n",
      "dtypes: float64(5), int64(3), object(3)\n",
      "memory usage: 1.4+ MB\n"
     ]
    }
   ],
   "source": [
    "pwc.info()"
   ]
  },
  {
   "cell_type": "code",
   "execution_count": 10,
   "id": "10bcd630-f8be-481a-a33b-4984eac9bfe8",
   "metadata": {},
   "outputs": [
    {
     "data": {
      "text/plain": [
       "Index(['step', 'type', 'amount', 'nameOrig', 'oldbalanceOrg', 'newbalanceOrig',\n",
       "       'nameDest', 'oldbalanceDest', 'newbalanceDest', 'isFraud',\n",
       "       'isFlaggedFraud'],\n",
       "      dtype='object')"
      ]
     },
     "execution_count": 10,
     "metadata": {},
     "output_type": "execute_result"
    }
   ],
   "source": [
    "pwc.columns"
   ]
  },
  {
   "cell_type": "code",
   "execution_count": 12,
   "id": "9a6baf82-6b34-45ae-b0c0-99e838cd5a6a",
   "metadata": {},
   "outputs": [
    {
     "data": {
      "text/plain": [
       "<bound method DataFrame.corr of        step      type      amount     nameOrig  oldbalanceOrg  newbalanceOrig  \\\n",
       "0        18   CASH_IN   180078.01  C1791832105     2796833.20      2976911.22   \n",
       "1       258   PAYMENT     2138.35   C634754263           0.00            0.00   \n",
       "2       183  TRANSFER   342675.47  C1778106585      342675.47            0.00   \n",
       "3       577  TRANSFER   141730.20  C1677850525      141730.20            0.00   \n",
       "4       742  TRANSFER  4009058.39  C1044665079     4009058.39            0.00   \n",
       "...     ...       ...         ...          ...            ...             ...   \n",
       "16421   141  CASH_OUT    14898.80  C1882828175      104665.00        89766.20   \n",
       "16422   188   CASH_IN   437986.25  C1072308575       50474.00       488460.25   \n",
       "16423   586  CASH_OUT        0.00  C1303719003           0.00            0.00   \n",
       "16424   355  CASH_OUT    42483.97  C1595793252       42483.97            0.00   \n",
       "16425   374   PAYMENT     6069.42  C1139940003           0.00            0.00   \n",
       "\n",
       "          nameDest  oldbalanceDest  newbalanceDest  isFraud  isFlaggedFraud  \n",
       "0      C1756248403      1169682.86       989604.85        0               0  \n",
       "1       M205383539            0.00            0.00        0               0  \n",
       "2       C144558690            0.00            0.00        1               0  \n",
       "3       C607738036            0.00            0.00        1               0  \n",
       "4       C750074708            0.00            0.00        1               0  \n",
       "...            ...             ...             ...      ...             ...  \n",
       "16421  C1045368778      2756474.78      2771373.59        0               0  \n",
       "16422  C1532905677        49843.00            0.00        0               0  \n",
       "16423   C900608348      1328472.86      1328472.86        1               0  \n",
       "16424   C636454309        51495.75        93979.72        1               0  \n",
       "16425    M17941836            0.00            0.00        0               0  \n",
       "\n",
       "[16426 rows x 11 columns]>"
      ]
     },
     "execution_count": 12,
     "metadata": {},
     "output_type": "execute_result"
    }
   ],
   "source": [
    "pwc.corr"
   ]
  },
  {
   "cell_type": "markdown",
   "id": "297c772c-aa5b-4ebe-a2f2-bff2fcdaf755",
   "metadata": {},
   "source": [
    "#Usefull commands"
   ]
  },
  {
   "cell_type": "code",
   "execution_count": null,
   "id": "fc5a64b2-389b-4e6c-a0a2-0fce0e90a9cb",
   "metadata": {},
   "outputs": [],
   "source": [
    "pwd = current directory\n",
    "ls = list files\n",
    "cd = change directory\n",
    "mkdir = make a new directory"
   ]
  }
 ],
 "metadata": {
  "kernelspec": {
   "display_name": "Python 3 (ipykernel)",
   "language": "python",
   "name": "python3"
  },
  "language_info": {
   "codemirror_mode": {
    "name": "ipython",
    "version": 3
   },
   "file_extension": ".py",
   "mimetype": "text/x-python",
   "name": "python",
   "nbconvert_exporter": "python",
   "pygments_lexer": "ipython3",
   "version": "3.12.0"
  }
 },
 "nbformat": 4,
 "nbformat_minor": 5
}
